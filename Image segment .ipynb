{
 "cells": [
  {
   "cell_type": "code",
   "execution_count": 1,
   "id": "9c4b9b73",
   "metadata": {},
   "outputs": [
    {
     "name": "stderr",
     "output_type": "stream",
     "text": [
      "2023-04-12 16:56:54.847155: I tensorflow/core/platform/cpu_feature_guard.cc:182] This TensorFlow binary is optimized to use available CPU instructions in performance-critical operations.\n",
      "To enable the following instructions: AVX2 FMA, in other operations, rebuild TensorFlow with the appropriate compiler flags.\n"
     ]
    }
   ],
   "source": [
    "import pandas as pd\n",
    "import cv2\n",
    "from keras.utils import img_to_array\n",
    "import numpy as np\n",
    "from sklearn.model_selection import train_test_split\n",
    "from keras.utils import to_categorical\n",
    "from keras.preprocessing.image import ImageDataGenerator\n",
    "from keras.models import Sequential\n",
    "from keras.backend import image_data_format\n",
    "from keras.layers import Conv2D, Activation, BatchNormalization, MaxPooling2D, Dropout, Flatten, Dense \n",
    "from keras.optimizers import Adam\n",
    "import matplotlib.pyplot as plt"
   ]
  },
  {
   "cell_type": "code",
   "execution_count": 2,
   "id": "d2d524df",
   "metadata": {},
   "outputs": [],
   "source": [
    "target=pd.read_csv('/Users/joshuaodugbemi/Downloads/Datasets/archive (4)/train.csv')"
   ]
  },
  {
   "cell_type": "code",
   "execution_count": 3,
   "id": "ed02e538",
   "metadata": {},
   "outputs": [
    {
     "data": {
      "text/html": [
       "<div>\n",
       "<style scoped>\n",
       "    .dataframe tbody tr th:only-of-type {\n",
       "        vertical-align: middle;\n",
       "    }\n",
       "\n",
       "    .dataframe tbody tr th {\n",
       "        vertical-align: top;\n",
       "    }\n",
       "\n",
       "    .dataframe thead th {\n",
       "        text-align: right;\n",
       "    }\n",
       "</style>\n",
       "<table border=\"1\" class=\"dataframe\">\n",
       "  <thead>\n",
       "    <tr style=\"text-align: right;\">\n",
       "      <th></th>\n",
       "      <th>image_names</th>\n",
       "      <th>class</th>\n",
       "    </tr>\n",
       "  </thead>\n",
       "  <tbody>\n",
       "    <tr>\n",
       "      <th>0</th>\n",
       "      <td>11413.jpg</td>\n",
       "      <td>1</td>\n",
       "    </tr>\n",
       "    <tr>\n",
       "      <th>1</th>\n",
       "      <td>9863.jpg</td>\n",
       "      <td>1</td>\n",
       "    </tr>\n",
       "    <tr>\n",
       "      <th>2</th>\n",
       "      <td>997.jpg</td>\n",
       "      <td>0</td>\n",
       "    </tr>\n",
       "    <tr>\n",
       "      <th>3</th>\n",
       "      <td>5950.jpg</td>\n",
       "      <td>0</td>\n",
       "    </tr>\n",
       "    <tr>\n",
       "      <th>4</th>\n",
       "      <td>10454.jpg</td>\n",
       "      <td>1</td>\n",
       "    </tr>\n",
       "  </tbody>\n",
       "</table>\n",
       "</div>"
      ],
      "text/plain": [
       "  image_names  class\n",
       "0   11413.jpg      1\n",
       "1    9863.jpg      1\n",
       "2     997.jpg      0\n",
       "3    5950.jpg      0\n",
       "4   10454.jpg      1"
      ]
     },
     "execution_count": 3,
     "metadata": {},
     "output_type": "execute_result"
    }
   ],
   "source": [
    "# 1 is for male and 0 is for female\n",
    "target.head()"
   ]
  },
  {
   "cell_type": "code",
   "execution_count": 4,
   "id": "b9c6de10",
   "metadata": {},
   "outputs": [],
   "source": [
    "target['images']='/Users/joshuaodugbemi/Downloads/Datasets/archive (4)/images/'+target['image_names']"
   ]
  },
  {
   "cell_type": "code",
   "execution_count": 5,
   "id": "4fb02437",
   "metadata": {},
   "outputs": [
    {
     "data": {
      "text/plain": [
       "'/Users/joshuaodugbemi/Downloads/Datasets/archive (4)/images/11413.jpg'"
      ]
     },
     "execution_count": 5,
     "metadata": {},
     "output_type": "execute_result"
    }
   ],
   "source": [
    "target['images'][0]"
   ]
  },
  {
   "cell_type": "code",
   "execution_count": null,
   "id": "255a74d5",
   "metadata": {},
   "outputs": [],
   "source": []
  },
  {
   "cell_type": "code",
   "execution_count": 6,
   "id": "f0e20f67",
   "metadata": {},
   "outputs": [
    {
     "data": {
      "text/html": [
       "<div>\n",
       "<style scoped>\n",
       "    .dataframe tbody tr th:only-of-type {\n",
       "        vertical-align: middle;\n",
       "    }\n",
       "\n",
       "    .dataframe tbody tr th {\n",
       "        vertical-align: top;\n",
       "    }\n",
       "\n",
       "    .dataframe thead th {\n",
       "        text-align: right;\n",
       "    }\n",
       "</style>\n",
       "<table border=\"1\" class=\"dataframe\">\n",
       "  <thead>\n",
       "    <tr style=\"text-align: right;\">\n",
       "      <th></th>\n",
       "      <th>image_names</th>\n",
       "      <th>class</th>\n",
       "      <th>images</th>\n",
       "    </tr>\n",
       "  </thead>\n",
       "  <tbody>\n",
       "    <tr>\n",
       "      <th>0</th>\n",
       "      <td>11413.jpg</td>\n",
       "      <td>1</td>\n",
       "      <td>/Users/joshuaodugbemi/Downloads/Datasets/archi...</td>\n",
       "    </tr>\n",
       "    <tr>\n",
       "      <th>1</th>\n",
       "      <td>9863.jpg</td>\n",
       "      <td>1</td>\n",
       "      <td>/Users/joshuaodugbemi/Downloads/Datasets/archi...</td>\n",
       "    </tr>\n",
       "    <tr>\n",
       "      <th>2</th>\n",
       "      <td>997.jpg</td>\n",
       "      <td>0</td>\n",
       "      <td>/Users/joshuaodugbemi/Downloads/Datasets/archi...</td>\n",
       "    </tr>\n",
       "    <tr>\n",
       "      <th>3</th>\n",
       "      <td>5950.jpg</td>\n",
       "      <td>0</td>\n",
       "      <td>/Users/joshuaodugbemi/Downloads/Datasets/archi...</td>\n",
       "    </tr>\n",
       "    <tr>\n",
       "      <th>4</th>\n",
       "      <td>10454.jpg</td>\n",
       "      <td>1</td>\n",
       "      <td>/Users/joshuaodugbemi/Downloads/Datasets/archi...</td>\n",
       "    </tr>\n",
       "  </tbody>\n",
       "</table>\n",
       "</div>"
      ],
      "text/plain": [
       "  image_names  class                                             images\n",
       "0   11413.jpg      1  /Users/joshuaodugbemi/Downloads/Datasets/archi...\n",
       "1    9863.jpg      1  /Users/joshuaodugbemi/Downloads/Datasets/archi...\n",
       "2     997.jpg      0  /Users/joshuaodugbemi/Downloads/Datasets/archi...\n",
       "3    5950.jpg      0  /Users/joshuaodugbemi/Downloads/Datasets/archi...\n",
       "4   10454.jpg      1  /Users/joshuaodugbemi/Downloads/Datasets/archi..."
      ]
     },
     "execution_count": 6,
     "metadata": {},
     "output_type": "execute_result"
    }
   ],
   "source": [
    "target.head()"
   ]
  },
  {
   "cell_type": "code",
   "execution_count": 7,
   "id": "462efa99",
   "metadata": {},
   "outputs": [],
   "source": [
    "target=target.drop('image_names',axis=1)"
   ]
  },
  {
   "cell_type": "code",
   "execution_count": 8,
   "id": "f3dd34d8",
   "metadata": {},
   "outputs": [
    {
     "data": {
      "text/html": [
       "<div>\n",
       "<style scoped>\n",
       "    .dataframe tbody tr th:only-of-type {\n",
       "        vertical-align: middle;\n",
       "    }\n",
       "\n",
       "    .dataframe tbody tr th {\n",
       "        vertical-align: top;\n",
       "    }\n",
       "\n",
       "    .dataframe thead th {\n",
       "        text-align: right;\n",
       "    }\n",
       "</style>\n",
       "<table border=\"1\" class=\"dataframe\">\n",
       "  <thead>\n",
       "    <tr style=\"text-align: right;\">\n",
       "      <th></th>\n",
       "      <th>class</th>\n",
       "      <th>images</th>\n",
       "    </tr>\n",
       "  </thead>\n",
       "  <tbody>\n",
       "    <tr>\n",
       "      <th>0</th>\n",
       "      <td>1</td>\n",
       "      <td>/Users/joshuaodugbemi/Downloads/Datasets/archi...</td>\n",
       "    </tr>\n",
       "    <tr>\n",
       "      <th>1</th>\n",
       "      <td>1</td>\n",
       "      <td>/Users/joshuaodugbemi/Downloads/Datasets/archi...</td>\n",
       "    </tr>\n",
       "    <tr>\n",
       "      <th>2</th>\n",
       "      <td>0</td>\n",
       "      <td>/Users/joshuaodugbemi/Downloads/Datasets/archi...</td>\n",
       "    </tr>\n",
       "    <tr>\n",
       "      <th>3</th>\n",
       "      <td>0</td>\n",
       "      <td>/Users/joshuaodugbemi/Downloads/Datasets/archi...</td>\n",
       "    </tr>\n",
       "    <tr>\n",
       "      <th>4</th>\n",
       "      <td>1</td>\n",
       "      <td>/Users/joshuaodugbemi/Downloads/Datasets/archi...</td>\n",
       "    </tr>\n",
       "  </tbody>\n",
       "</table>\n",
       "</div>"
      ],
      "text/plain": [
       "   class                                             images\n",
       "0      1  /Users/joshuaodugbemi/Downloads/Datasets/archi...\n",
       "1      1  /Users/joshuaodugbemi/Downloads/Datasets/archi...\n",
       "2      0  /Users/joshuaodugbemi/Downloads/Datasets/archi...\n",
       "3      0  /Users/joshuaodugbemi/Downloads/Datasets/archi...\n",
       "4      1  /Users/joshuaodugbemi/Downloads/Datasets/archi..."
      ]
     },
     "execution_count": 8,
     "metadata": {},
     "output_type": "execute_result"
    }
   ],
   "source": [
    "target.head()"
   ]
  },
  {
   "cell_type": "code",
   "execution_count": 9,
   "id": "5c87c4cb",
   "metadata": {},
   "outputs": [],
   "source": [
    "data=[]\n",
    "labels=[]"
   ]
  },
  {
   "cell_type": "code",
   "execution_count": 10,
   "id": "fceb30d8",
   "metadata": {},
   "outputs": [],
   "source": [
    "for img in target['images']:\n",
    "    image=cv2.imread(img)\n",
    "    image=cv2.resize(image,(96,96))\n",
    "    image=img_to_array(image)\n",
    "    data.append(image)"
   ]
  },
  {
   "cell_type": "code",
   "execution_count": 11,
   "id": "b22d8e1f",
   "metadata": {},
   "outputs": [],
   "source": [
    "labels=target['class']"
   ]
  },
  {
   "cell_type": "code",
   "execution_count": 12,
   "id": "154fcc7f",
   "metadata": {},
   "outputs": [],
   "source": [
    "data=np.array(data,dtype='float')/255.0\n",
    "labels=np.array(labels)"
   ]
  },
  {
   "cell_type": "code",
   "execution_count": 13,
   "id": "997103c9",
   "metadata": {},
   "outputs": [],
   "source": [
    "x_train,x_test,y_train,y_test=train_test_split(data,labels,test_size=0.3,random_state=42)"
   ]
  },
  {
   "cell_type": "code",
   "execution_count": 14,
   "id": "16b0f41d",
   "metadata": {},
   "outputs": [],
   "source": [
    "y_train=to_categorical(y_train,num_classes=2)\n",
    "y_test=to_categorical(y_test,num_classes=2)"
   ]
  },
  {
   "cell_type": "code",
   "execution_count": 15,
   "id": "8e2f3a81",
   "metadata": {},
   "outputs": [],
   "source": [
    "aug= ImageDataGenerator(rotation_range=25,width_shift_range=0.1,height_shift_range=0.1,\n",
    "                        shear_range=0.2,zoom_range=0.2,horizontal_flip=True,fill_mode='nearest')"
   ]
  },
  {
   "cell_type": "code",
   "execution_count": 16,
   "id": "73d86a1c",
   "metadata": {},
   "outputs": [],
   "source": [
    "def build(width,height,depth,classes):\n",
    "    model=Sequential()\n",
    "    input_shape=(height,width,depth)\n",
    "    chanDim=-1\n",
    "    \n",
    "    if image_data_format()=='channels_first':\n",
    "        input_shape=(depth,height,width)\n",
    "        chanDim=1\n",
    "        \n",
    "    model.add(Conv2D(32,(3,3),padding='same',input_shape=input_shape))\n",
    "    model.add(Activation('relu'))\n",
    "    model.add(BatchNormalization(axis=chanDim))\n",
    "    model.add(MaxPooling2D(pool_size=(3,3)))\n",
    "    model.add(Dropout(0.25))\n",
    "    \n",
    "    model.add(Conv2D(64,(3,3),padding='same'))\n",
    "    model.add(Activation('relu'))\n",
    "    model.add(BatchNormalization(axis=chanDim))\n",
    "    \n",
    "    model.add(Conv2D(64,(3,3),padding='same'))\n",
    "    model.add(Activation('relu'))\n",
    "    model.add(BatchNormalization(axis=chanDim))\n",
    "    model.add(MaxPooling2D(pool_size=(2,2)))\n",
    "    model.add(Dropout(0.25))\n",
    "    \n",
    "    model.add(Conv2D(128,(3,3),padding='same'))\n",
    "    model.add(Activation('relu'))\n",
    "    model.add(BatchNormalization(axis=chanDim))\n",
    "    \n",
    "    model.add(Conv2D(128,(3,3),padding='same'))\n",
    "    model.add(Activation('relu'))\n",
    "    model.add(BatchNormalization(axis=chanDim))\n",
    "    model.add(MaxPooling2D(pool_size=(2,2)))\n",
    "    model.add(Dropout(0.25))\n",
    "    \n",
    "    model.add(Flatten())\n",
    "    model.add(Dense(1024))\n",
    "    model.add(Activation('relu'))\n",
    "    model.add(BatchNormalization())\n",
    "    model.add(Dropout(0.5))\n",
    "    \n",
    "    model.add(Dense(classes))\n",
    "    model.add(Activation('sigmoid'))\n",
    "    \n",
    "    return model"
   ]
  },
  {
   "cell_type": "code",
   "execution_count": 17,
   "id": "8c66d549",
   "metadata": {},
   "outputs": [],
   "source": [
    "model=build(96,96,3,2)"
   ]
  },
  {
   "cell_type": "code",
   "execution_count": 18,
   "id": "583e7744",
   "metadata": {
    "scrolled": true
   },
   "outputs": [],
   "source": [
    "opt=Adam(learning_rate=1e-3, decay=1e-3/100)"
   ]
  },
  {
   "cell_type": "code",
   "execution_count": 19,
   "id": "33b2d62d",
   "metadata": {},
   "outputs": [],
   "source": [
    "model.compile(loss='binary_crossentropy', optimizer=opt, metrics=['accuracy'])"
   ]
  },
  {
   "cell_type": "code",
   "execution_count": 20,
   "id": "ba9d0e64",
   "metadata": {
    "scrolled": true
   },
   "outputs": [
    {
     "name": "stdout",
     "output_type": "stream",
     "text": [
      "Epoch 1/10\n"
     ]
    },
    {
     "name": "stderr",
     "output_type": "stream",
     "text": [
      "/var/folders/4v/14_p203d1_987b4lxcc7_b380000gp/T/ipykernel_2575/2877322802.py:1: UserWarning: `Model.fit_generator` is deprecated and will be removed in a future version. Please use `Model.fit`, which supports generators.\n",
      "  final=model.fit_generator(aug.flow(x_train,y_train,batch_size=64), validation_data=(x_test,y_test),\n",
      "2023-04-12 16:57:43.382168: I tensorflow/core/common_runtime/executor.cc:1197] [/device:CPU:0] (DEBUG INFO) Executor start aborting (this does not indicate an error and you can ignore this message): INVALID_ARGUMENT: You must feed a value for placeholder tensor 'Placeholder/_0' with dtype int32\n",
      "\t [[{{node Placeholder/_0}}]]\n"
     ]
    },
    {
     "name": "stdout",
     "output_type": "stream",
     "text": [
      "133/133 [==============================] - 120s 889ms/step - loss: 0.7282 - accuracy: 0.6903 - val_loss: 0.7248 - val_accuracy: 0.5532\n",
      "Epoch 2/10\n",
      "133/133 [==============================] - 114s 859ms/step - loss: 0.5690 - accuracy: 0.7476 - val_loss: 0.8321 - val_accuracy: 0.5256\n",
      "Epoch 3/10\n",
      "133/133 [==============================] - 115s 866ms/step - loss: 0.4945 - accuracy: 0.7785 - val_loss: 0.6382 - val_accuracy: 0.6496\n",
      "Epoch 4/10\n",
      "133/133 [==============================] - 117s 880ms/step - loss: 0.4406 - accuracy: 0.8007 - val_loss: 0.3837 - val_accuracy: 0.8224\n",
      "Epoch 5/10\n",
      "133/133 [==============================] - 121s 908ms/step - loss: 0.3989 - accuracy: 0.8179 - val_loss: 0.3498 - val_accuracy: 0.8491\n",
      "Epoch 6/10\n",
      "133/133 [==============================] - 124s 933ms/step - loss: 0.3575 - accuracy: 0.8409 - val_loss: 0.2573 - val_accuracy: 0.8942\n",
      "Epoch 7/10\n",
      "133/133 [==============================] - 128s 959ms/step - loss: 0.3450 - accuracy: 0.8468 - val_loss: 0.2614 - val_accuracy: 0.8975\n",
      "Epoch 8/10\n",
      "133/133 [==============================] - 131s 985ms/step - loss: 0.3040 - accuracy: 0.8672 - val_loss: 0.2528 - val_accuracy: 0.8920\n",
      "Epoch 9/10\n",
      "133/133 [==============================] - 134s 1s/step - loss: 0.3230 - accuracy: 0.8598 - val_loss: 0.3959 - val_accuracy: 0.8251\n",
      "Epoch 10/10\n",
      "133/133 [==============================] - 136s 1s/step - loss: 0.2971 - accuracy: 0.8719 - val_loss: 0.3940 - val_accuracy: 0.8213\n"
     ]
    }
   ],
   "source": [
    "final=model.fit_generator(aug.flow(x_train,y_train,batch_size=64), validation_data=(x_test,y_test),\n",
    "                                   steps_per_epoch=len(x_train)//64, epochs=10, verbose=1)"
   ]
  },
  {
   "cell_type": "code",
   "execution_count": 21,
   "id": "d00ccb1a",
   "metadata": {},
   "outputs": [
    {
     "name": "stderr",
     "output_type": "stream",
     "text": [
      "2023-04-12 17:18:23.642569: I tensorflow/core/common_runtime/executor.cc:1197] [/device:CPU:0] (DEBUG INFO) Executor start aborting (this does not indicate an error and you can ignore this message): INVALID_ARGUMENT: You must feed a value for placeholder tensor 'inputs' with dtype float and shape [?,32,32,32]\n",
      "\t [[{{node inputs}}]]\n",
      "2023-04-12 17:18:23.672682: I tensorflow/core/common_runtime/executor.cc:1197] [/device:CPU:0] (DEBUG INFO) Executor start aborting (this does not indicate an error and you can ignore this message): INVALID_ARGUMENT: You must feed a value for placeholder tensor 'inputs' with dtype float and shape [?,16,16,64]\n",
      "\t [[{{node inputs}}]]\n",
      "2023-04-12 17:18:23.701646: I tensorflow/core/common_runtime/executor.cc:1197] [/device:CPU:0] (DEBUG INFO) Executor start aborting (this does not indicate an error and you can ignore this message): INVALID_ARGUMENT: You must feed a value for placeholder tensor 'inputs' with dtype float and shape [?,8,8,128]\n",
      "\t [[{{node inputs}}]]\n",
      "2023-04-12 17:18:23.724756: I tensorflow/core/common_runtime/executor.cc:1197] [/device:CPU:0] (DEBUG INFO) Executor start aborting (this does not indicate an error and you can ignore this message): INVALID_ARGUMENT: You must feed a value for placeholder tensor 'inputs' with dtype float and shape [?,1024]\n",
      "\t [[{{node inputs}}]]\n",
      "2023-04-12 17:18:24.244164: I tensorflow/core/common_runtime/executor.cc:1197] [/device:CPU:0] (DEBUG INFO) Executor start aborting (this does not indicate an error and you can ignore this message): INVALID_ARGUMENT: You must feed a value for placeholder tensor 'inputs' with dtype float and shape [?,32,32,32]\n",
      "\t [[{{node inputs}}]]\n",
      "2023-04-12 17:18:24.368572: I tensorflow/core/common_runtime/executor.cc:1197] [/device:CPU:0] (DEBUG INFO) Executor start aborting (this does not indicate an error and you can ignore this message): INVALID_ARGUMENT: You must feed a value for placeholder tensor 'inputs' with dtype float and shape [?,16,16,64]\n",
      "\t [[{{node inputs}}]]\n",
      "2023-04-12 17:18:24.491035: I tensorflow/core/common_runtime/executor.cc:1197] [/device:CPU:0] (DEBUG INFO) Executor start aborting (this does not indicate an error and you can ignore this message): INVALID_ARGUMENT: You must feed a value for placeholder tensor 'inputs' with dtype float and shape [?,8,8,128]\n",
      "\t [[{{node inputs}}]]\n",
      "2023-04-12 17:18:24.573645: I tensorflow/core/common_runtime/executor.cc:1197] [/device:CPU:0] (DEBUG INFO) Executor start aborting (this does not indicate an error and you can ignore this message): INVALID_ARGUMENT: You must feed a value for placeholder tensor 'inputs' with dtype float and shape [?,1024]\n",
      "\t [[{{node inputs}}]]\n",
      "WARNING:absl:Found untraced functions such as _jit_compiled_convolution_op, _jit_compiled_convolution_op, _jit_compiled_convolution_op, _jit_compiled_convolution_op, _jit_compiled_convolution_op while saving (showing 5 of 5). These functions will not be directly callable after loading.\n"
     ]
    },
    {
     "name": "stdout",
     "output_type": "stream",
     "text": [
      "INFO:tensorflow:Assets written to: gender_classification.model/assets\n"
     ]
    },
    {
     "name": "stderr",
     "output_type": "stream",
     "text": [
      "INFO:tensorflow:Assets written to: gender_classification.model/assets\n"
     ]
    }
   ],
   "source": [
    "model.save('gender_classification.model')"
   ]
  }
 ],
 "metadata": {
  "kernelspec": {
   "display_name": "Python 3 (ipykernel)",
   "language": "python",
   "name": "python3"
  },
  "language_info": {
   "codemirror_mode": {
    "name": "ipython",
    "version": 3
   },
   "file_extension": ".py",
   "mimetype": "text/x-python",
   "name": "python",
   "nbconvert_exporter": "python",
   "pygments_lexer": "ipython3",
   "version": "3.11.2"
  }
 },
 "nbformat": 4,
 "nbformat_minor": 5
}
